{
 "cells": [
  {
   "cell_type": "code",
   "execution_count": 1,
   "metadata": {
    "collapsed": false
   },
   "outputs": [
    {
     "name": "stdout",
     "output_type": "stream",
     "text": [
      "Extracting data/train-images-idx3-ubyte.gz\n",
      "Extracting data/train-labels-idx1-ubyte.gz\n",
      "Extracting data/t10k-images-idx3-ubyte.gz\n",
      "Extracting data/t10k-labels-idx1-ubyte.gz\n",
      "MNIST loaded\n"
     ]
    }
   ],
   "source": [
    "import tensorflow as tf\n",
    "from tensorflow.python.ops import rnn, rnn_cell\n",
    "from tensorflow.python.ops.rnn_cell import BasicRNNCell,BasicLSTMCell,GRUCell,DropoutWrapper,MultiRNNCell\n",
    "import numpy as np\n",
    "\n",
    "# Import MINST data\n",
    "from tensorflow.examples.tutorials.mnist import input_data\n",
    "mnist = input_data.read_data_sets(\"data/\", one_hot=True)\n",
    "\n",
    "print (\"MNIST loaded\")"
   ]
  },
  {
   "cell_type": "code",
   "execution_count": 2,
   "metadata": {
    "collapsed": false
   },
   "outputs": [
    {
     "name": "stdout",
     "output_type": "stream",
     "text": [
      "parameters ready\n"
     ]
    }
   ],
   "source": [
    "# Parameters\n",
    "learning_rate = 0.001\n",
    "training_iters = 100000\n",
    "batch_size = 128\n",
    "display_step = 10\n",
    "\n",
    "# Network Parameters\n",
    "n_input = 28 # MNIST data input (img shape: 28*28)\n",
    "n_steps = 28 # timesteps\n",
    "n_hidden = 128 # hidden layer num of features\n",
    "n_classes = 10 # MNIST total classes (0-9 digits)\n",
    "\n",
    "# tf Graph input\n",
    "x = tf.placeholder(\"float\", [None, n_steps, n_input])\n",
    "y = tf.placeholder(\"float\", [None, n_classes])\n",
    "\n",
    "# Define weights\n",
    "weights = {\n",
    "    'out': tf.Variable(tf.random_normal([n_hidden, n_classes]))\n",
    "}\n",
    "biases = {\n",
    "    'out': tf.Variable(tf.random_normal([n_classes]))\n",
    "}\n",
    "\n",
    "print (\"parameters ready\")"
   ]
  },
  {
   "cell_type": "code",
   "execution_count": 4,
   "metadata": {
    "collapsed": false
   },
   "outputs": [
    {
     "name": "stdout",
     "output_type": "stream",
     "text": [
      "Network ready\n"
     ]
    }
   ],
   "source": [
    "#def RNN(x, weights, biases):\n",
    "with tf.variable_scope(\"model\"):\n",
    "    #tf.get_variable_scope().reuse_variables()\n",
    "\n",
    "    # Prepare data shape to match `rnn` function requirements\n",
    "    # Current data input shape: (batch_size, n_steps, n_input)\n",
    "    # Required shape: 'n_steps' tensors list of shape (batch_size, n_input)\n",
    "    \n",
    "    # Permuting batch_size and n_steps\n",
    "    x_t = tf.transpose(x, [1, 0, 2])\n",
    "    # Reshaping to (n_steps*batch_size, n_input)\n",
    "    x_t = tf.reshape(x_t, [-1, n_input])\n",
    "    # Split to get a list of 'n_steps' tensors of shape (batch_size, n_input)\n",
    "    x_t = tf.split(0, n_steps, x_t)\n",
    "\n",
    "    # Define a lstm cell with tensorflow\n",
    "    cell = rnn_cell.BasicRNNCell(n_hidden)\n",
    "    \n",
    "    num_layers=3\n",
    "    cell = DropoutWrapper(cell, output_keep_prob=0.5)\n",
    "    cell = MultiRNNCell([cell] * num_layers)    \n",
    "    \n",
    "    # Get lstm cell output\n",
    "    #outputs, states = rnn.rnn(lstm_cell, x_t, dtype=tf.float32)\n",
    "    state = cell.zero_state(batch_size, tf.float32)\n",
    "    outputs=[]\n",
    "    for i, x_ in enumerate(x_t): \n",
    "        if i > 0 :\n",
    "            tf.get_variable_scope().reuse_variables()\n",
    "        (hidden, state) = cell(x_,state)\n",
    "        outputs.append(hidden)\n",
    "\n",
    "    # Linear activation, using rnn inner loop last output\n",
    "    pred = tf.matmul(outputs[-1], weights['out']) + biases['out']\n",
    "\n",
    "#pred = RNN(x, weights, biases)\n",
    "\n",
    "# Define loss and optimizer\n",
    "cost = tf.reduce_mean(tf.nn.softmax_cross_entropy_with_logits(pred, y))\n",
    "optimizer = tf.train.AdamOptimizer(learning_rate=learning_rate).minimize(cost)\n",
    "\n",
    "# Evaluate model\n",
    "correct_pred = tf.equal(tf.argmax(pred,1), tf.argmax(y,1))\n",
    "accuracy = tf.reduce_mean(tf.cast(correct_pred, tf.float32))\n",
    "\n",
    "\n",
    "\n",
    "print (\"Network ready\")"
   ]
  },
  {
   "cell_type": "code",
   "execution_count": 4,
   "metadata": {
    "collapsed": false
   },
   "outputs": [
    {
     "name": "stdout",
     "output_type": "stream",
     "text": [
      "Iter 1280, Minibatch Loss= 1.883030, Training Accuracy= 0.32031\n",
      "Iter 2560, Minibatch Loss= 1.370798, Training Accuracy= 0.57031\n",
      "Iter 3840, Minibatch Loss= 1.308891, Training Accuracy= 0.59375\n",
      "Iter 5120, Minibatch Loss= 1.013508, Training Accuracy= 0.69531\n",
      "Iter 6400, Minibatch Loss= 0.745936, Training Accuracy= 0.77344\n",
      "Iter 7680, Minibatch Loss= 1.192046, Training Accuracy= 0.66406\n",
      "Iter 8960, Minibatch Loss= 0.583129, Training Accuracy= 0.78125\n",
      "Iter 10240, Minibatch Loss= 0.699750, Training Accuracy= 0.72656\n",
      "Iter 11520, Minibatch Loss= 0.516218, Training Accuracy= 0.85938\n",
      "Iter 12800, Minibatch Loss= 0.642916, Training Accuracy= 0.78906\n",
      "Iter 14080, Minibatch Loss= 0.464755, Training Accuracy= 0.85156\n",
      "Iter 15360, Minibatch Loss= 0.395039, Training Accuracy= 0.89062\n",
      "Iter 16640, Minibatch Loss= 0.520794, Training Accuracy= 0.83594\n",
      "Iter 17920, Minibatch Loss= 0.609092, Training Accuracy= 0.78125\n",
      "Iter 19200, Minibatch Loss= 0.367607, Training Accuracy= 0.88281\n",
      "Iter 20480, Minibatch Loss= 0.299715, Training Accuracy= 0.91406\n",
      "Iter 21760, Minibatch Loss= 0.687261, Training Accuracy= 0.82031\n",
      "Iter 23040, Minibatch Loss= 0.396792, Training Accuracy= 0.87500\n",
      "Iter 24320, Minibatch Loss= 0.560467, Training Accuracy= 0.84375\n",
      "Iter 25600, Minibatch Loss= 0.655212, Training Accuracy= 0.78906\n",
      "Iter 26880, Minibatch Loss= 0.355469, Training Accuracy= 0.88281\n",
      "Iter 28160, Minibatch Loss= 0.497793, Training Accuracy= 0.83594\n",
      "Iter 29440, Minibatch Loss= 0.483553, Training Accuracy= 0.85938\n",
      "Iter 30720, Minibatch Loss= 0.416180, Training Accuracy= 0.85938\n",
      "Iter 32000, Minibatch Loss= 0.362684, Training Accuracy= 0.85156\n",
      "Iter 33280, Minibatch Loss= 0.416127, Training Accuracy= 0.84375\n",
      "Iter 34560, Minibatch Loss= 0.439895, Training Accuracy= 0.89844\n",
      "Iter 35840, Minibatch Loss= 0.412992, Training Accuracy= 0.86719\n",
      "Iter 37120, Minibatch Loss= 0.447494, Training Accuracy= 0.89062\n",
      "Iter 38400, Minibatch Loss= 0.211992, Training Accuracy= 0.93750\n",
      "Iter 39680, Minibatch Loss= 0.387654, Training Accuracy= 0.85156\n",
      "Iter 40960, Minibatch Loss= 0.590773, Training Accuracy= 0.81250\n",
      "Iter 42240, Minibatch Loss= 0.395930, Training Accuracy= 0.85156\n",
      "Iter 43520, Minibatch Loss= 0.223262, Training Accuracy= 0.92969\n",
      "Iter 44800, Minibatch Loss= 0.339319, Training Accuracy= 0.88281\n",
      "Iter 46080, Minibatch Loss= 0.177705, Training Accuracy= 0.93750\n",
      "Iter 47360, Minibatch Loss= 0.455025, Training Accuracy= 0.82031\n",
      "Iter 48640, Minibatch Loss= 0.404450, Training Accuracy= 0.89844\n",
      "Iter 49920, Minibatch Loss= 0.496864, Training Accuracy= 0.85156\n",
      "Iter 51200, Minibatch Loss= 0.311342, Training Accuracy= 0.89062\n",
      "Iter 52480, Minibatch Loss= 0.155216, Training Accuracy= 0.94531\n",
      "Iter 53760, Minibatch Loss= 0.107415, Training Accuracy= 0.97656\n",
      "Iter 55040, Minibatch Loss= 0.495168, Training Accuracy= 0.86719\n",
      "Iter 56320, Minibatch Loss= 0.273662, Training Accuracy= 0.92969\n",
      "Iter 57600, Minibatch Loss= 0.408364, Training Accuracy= 0.89844\n",
      "Iter 58880, Minibatch Loss= 0.369106, Training Accuracy= 0.91406\n",
      "Iter 60160, Minibatch Loss= 0.343414, Training Accuracy= 0.89844\n",
      "Iter 61440, Minibatch Loss= 0.240023, Training Accuracy= 0.92188\n",
      "Iter 62720, Minibatch Loss= 0.262536, Training Accuracy= 0.92188\n",
      "Iter 64000, Minibatch Loss= 0.170834, Training Accuracy= 0.92969\n",
      "Iter 65280, Minibatch Loss= 0.198150, Training Accuracy= 0.94531\n",
      "Iter 66560, Minibatch Loss= 0.355411, Training Accuracy= 0.89062\n",
      "Iter 67840, Minibatch Loss= 0.268060, Training Accuracy= 0.93750\n",
      "Iter 69120, Minibatch Loss= 0.232170, Training Accuracy= 0.93750\n",
      "Iter 70400, Minibatch Loss= 0.180251, Training Accuracy= 0.92188\n",
      "Iter 71680, Minibatch Loss= 0.224799, Training Accuracy= 0.92969\n",
      "Iter 72960, Minibatch Loss= 0.354276, Training Accuracy= 0.90625\n",
      "Iter 74240, Minibatch Loss= 0.309803, Training Accuracy= 0.90625\n",
      "Iter 75520, Minibatch Loss= 0.238383, Training Accuracy= 0.90625\n",
      "Iter 76800, Minibatch Loss= 0.206130, Training Accuracy= 0.94531\n",
      "Iter 78080, Minibatch Loss= 0.306421, Training Accuracy= 0.89844\n",
      "Iter 79360, Minibatch Loss= 0.251198, Training Accuracy= 0.91406\n",
      "Iter 80640, Minibatch Loss= 0.241305, Training Accuracy= 0.92188\n",
      "Iter 81920, Minibatch Loss= 0.198438, Training Accuracy= 0.91406\n",
      "Iter 83200, Minibatch Loss= 0.213369, Training Accuracy= 0.92969\n",
      "Iter 84480, Minibatch Loss= 0.070630, Training Accuracy= 0.97656\n",
      "Iter 85760, Minibatch Loss= 0.126099, Training Accuracy= 0.96875\n",
      "Iter 87040, Minibatch Loss= 0.304178, Training Accuracy= 0.88281\n",
      "Iter 88320, Minibatch Loss= 0.107703, Training Accuracy= 0.96875\n",
      "Iter 89600, Minibatch Loss= 0.258975, Training Accuracy= 0.90625\n",
      "Iter 90880, Minibatch Loss= 0.308485, Training Accuracy= 0.92969\n",
      "Iter 92160, Minibatch Loss= 0.245012, Training Accuracy= 0.94531\n",
      "Iter 93440, Minibatch Loss= 0.124097, Training Accuracy= 0.96094\n",
      "Iter 94720, Minibatch Loss= 0.315916, Training Accuracy= 0.88281\n",
      "Iter 96000, Minibatch Loss= 0.158433, Training Accuracy= 0.94531\n",
      "Iter 97280, Minibatch Loss= 0.202605, Training Accuracy= 0.93750\n",
      "Iter 98560, Minibatch Loss= 0.225853, Training Accuracy= 0.91406\n",
      "Iter 99840, Minibatch Loss= 0.274916, Training Accuracy= 0.91406\n",
      "Optimization Finished!\n",
      "Testing Accuracy: 0.953125\n"
     ]
    }
   ],
   "source": [
    "# Initializing the variables\n",
    "init = tf.initialize_all_variables()\n",
    "\n",
    "# Launch the graph\n",
    "with tf.Session() as sess:\n",
    "    sess.run(init)\n",
    "    step = 1\n",
    "    # Keep training until reach max iterations\n",
    "    while step * batch_size < training_iters:\n",
    "        batch_x, batch_y = mnist.train.next_batch(batch_size)\n",
    "        # Reshape data to get 28 seq of 28 elements\n",
    "        batch_x = batch_x.reshape((batch_size, n_steps, n_input))\n",
    "\n",
    "        # Run optimization op (backprop)\n",
    "        _, acc, loss = sess.run([optimizer,accuracy,cost], feed_dict={x: batch_x, y: batch_y})\n",
    "        \n",
    "        if step % display_step == 0:\n",
    "            print \"Iter \" + str(step*batch_size) + \", Minibatch Loss= \" + \\\n",
    "                  \"{:.6f}\".format(loss) + \", Training Accuracy= \" + \\\n",
    "                  \"{:.5f}\".format(acc)\n",
    "        step += 1\n",
    "    print \"Optimization Finished!\"\n",
    "\n",
    "    # Calculate accuracy for 128 mnist test images\n",
    "    test_len = 128\n",
    "    test_data = mnist.test.images[:test_len].reshape((-1, n_steps, n_input))\n",
    "    test_label = mnist.test.labels[:test_len]\n",
    "    print \"Testing Accuracy:\", \\\n",
    "        sess.run(accuracy, feed_dict={x: test_data, y: test_label})"
   ]
  },
  {
   "cell_type": "code",
   "execution_count": null,
   "metadata": {
    "collapsed": true
   },
   "outputs": [],
   "source": []
  }
 ],
 "metadata": {
  "kernelspec": {
   "display_name": "Python 2",
   "language": "python",
   "name": "python2"
  },
  "language_info": {
   "codemirror_mode": {
    "name": "ipython",
    "version": 2
   },
   "file_extension": ".py",
   "mimetype": "text/x-python",
   "name": "python",
   "nbconvert_exporter": "python",
   "pygments_lexer": "ipython2",
   "version": "2.7.6"
  }
 },
 "nbformat": 4,
 "nbformat_minor": 0
}
