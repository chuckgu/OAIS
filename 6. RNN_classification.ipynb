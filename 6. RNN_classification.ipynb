{
 "cells": [
  {
   "cell_type": "code",
   "execution_count": 1,
   "metadata": {
    "collapsed": false,
    "deletable": true,
    "editable": true
   },
   "outputs": [
    {
     "name": "stdout",
     "output_type": "stream",
     "text": [
      "Extracting MNIST_data/train-images-idx3-ubyte.gz\n",
      "Extracting MNIST_data/train-labels-idx1-ubyte.gz\n",
      "Extracting MNIST_data/t10k-images-idx3-ubyte.gz\n",
      "Extracting MNIST_data/t10k-labels-idx1-ubyte.gz\n"
     ]
    }
   ],
   "source": [
    "import tensorflow as tf\n",
    "from tensorflow.examples.tutorials.mnist import input_data\n",
    "\n",
    "# set random seed for comparing the two result calculations\n",
    "tf.set_random_seed(1)\n",
    "\n",
    "# this is data\n",
    "mnist = input_data.read_data_sets('MNIST_data', one_hot=True)\n",
    "\n"
   ]
  },
  {
   "cell_type": "code",
   "execution_count": 4,
   "metadata": {
    "collapsed": false,
    "deletable": true,
    "editable": true
   },
   "outputs": [
    {
     "name": "stdout",
     "output_type": "stream",
     "text": [
      "parameters ready\n"
     ]
    }
   ],
   "source": [
    "# hyperparameters\n",
    "lr = 0.001\n",
    "training_iters = 100000\n",
    "batch_size = 128\n",
    "\n",
    "n_inputs = 28   # MNIST data input (img shape: 28*28)\n",
    "n_steps = 28    # time steps\n",
    "n_hidden_units = 128   # neurons in hidden layer\n",
    "n_classes = 10      # MNIST classes (0-9 digits)\n",
    "\n",
    "# tf Graph input\n",
    "x = tf.placeholder(tf.float32, [None, n_steps, n_inputs])\n",
    "y = tf.placeholder(tf.float32, [None, n_classes])\n",
    "\n",
    "# Define weights\n",
    "weights = {\n",
    "    # (28, 128)\n",
    "    'in': tf.Variable(tf.random_normal([n_inputs, n_hidden_units])),\n",
    "    # (128, 10)\n",
    "    'out': tf.Variable(tf.random_normal([n_hidden_units, n_classes]))\n",
    "}\n",
    "biases = {\n",
    "    # (128, )\n",
    "    'in': tf.Variable(tf.constant(0.1, shape=[n_hidden_units, ])),\n",
    "    # (10, )\n",
    "    'out': tf.Variable(tf.constant(0.1, shape=[n_classes, ]))\n",
    "}\n",
    "print (\"parameters ready\")"
   ]
  },
  {
   "cell_type": "code",
   "execution_count": 5,
   "metadata": {
    "collapsed": false,
    "deletable": true,
    "editable": true
   },
   "outputs": [
    {
     "name": "stdout",
     "output_type": "stream",
     "text": [
      "Network ready\n"
     ]
    }
   ],
   "source": [
    "# tf Graph input\n",
    "x = tf.placeholder(tf.float32, [None, n_steps, n_inputs])\n",
    "y = tf.placeholder(tf.float32, [None, n_classes])\n",
    "\n",
    "# Define weights\n",
    "weights = {\n",
    "    # (28, 128)\n",
    "    'in': tf.Variable(tf.random_normal([n_inputs, n_hidden_units])),\n",
    "    # (128, 10)\n",
    "    'out': tf.Variable(tf.random_normal([n_hidden_units, n_classes]))\n",
    "}\n",
    "biases = {\n",
    "    # (128, )\n",
    "    'in': tf.Variable(tf.constant(0.1, shape=[n_hidden_units, ])),\n",
    "    # (10, )\n",
    "    'out': tf.Variable(tf.constant(0.1, shape=[n_classes, ]))\n",
    "}\n",
    "\n",
    "def RNN(X, weights, biases):\n",
    "    # hidden layer for input to cell\n",
    "    ########################################\n",
    "\n",
    "    # transpose the inputs shape from\n",
    "    # X ==> (128 batch * 28 steps, 28 inputs)\n",
    "    X = tf.reshape(X, [-1, n_inputs])\n",
    "\n",
    "    # into hidden\n",
    "    # X_in = (128 batch * 28 steps, 128 hidden)\n",
    "    X_in = tf.matmul(X, weights['in']) + biases['in']\n",
    "    # X_in ==> (128 batch, 28 steps, 128 hidden)\n",
    "    X_in = tf.reshape(X_in, [-1, n_steps, n_hidden_units])\n",
    "\n",
    "    # cell\n",
    "    ##########################################\n",
    "\n",
    "    # basic LSTM Cell.\n",
    "    if int((tf.__version__).split('.')[1]) < 12 and int((tf.__version__).split('.')[0]) < 1:\n",
    "        cell = tf.nn.rnn_cell.BasicLSTMCell(n_hidden_units, forget_bias=1.0, state_is_tuple=True)\n",
    "    else:\n",
    "        cell = tf.contrib.rnn.BasicLSTMCell(n_hidden_units)\n",
    "    # lstm cell is divided into two parts (c_state, h_state)\n",
    "    init_state = cell.zero_state(batch_size, dtype=tf.float32)\n",
    "\n",
    "    # You have 2 options for following step.\n",
    "    # 1: tf.nn.rnn(cell, inputs);\n",
    "    # 2: tf.nn.dynamic_rnn(cell, inputs).\n",
    "    # If use option 1, you have to modified the shape of X_in, go and check out this:\n",
    "    # https://github.com/aymericdamien/TensorFlow-Examples/blob/master/examples/3_NeuralNetworks/recurrent_network.py\n",
    "    # In here, we go for option 2.\n",
    "    # dynamic_rnn receive Tensor (batch, steps, inputs) or (steps, batch, inputs) as X_in.\n",
    "    # Make sure the time_major is changed accordingly.\n",
    "    outputs, final_state = tf.nn.dynamic_rnn(cell, X_in, initial_state=init_state, time_major=False)\n",
    "\n",
    "    # hidden layer for output as the final results\n",
    "    #############################################\n",
    "    # results = tf.matmul(final_state[1], weights['out']) + biases['out']\n",
    "\n",
    "    # # or\n",
    "    # unpack to list [(batch, outputs)..] * steps\n",
    "    if int((tf.__version__).split('.')[1]) < 12 and int((tf.__version__).split('.')[0]) < 1:\n",
    "        outputs = tf.unpack(tf.transpose(outputs, [1, 0, 2]))    # states is the last outputs\n",
    "    else:\n",
    "        outputs = tf.unstack(tf.transpose(outputs, [1,0,2]))\n",
    "    results = tf.matmul(outputs[-1], weights['out']) + biases['out']    # shape = (128, 10)\n",
    "\n",
    "    return results\n",
    "\n",
    "pred = RNN(x, weights, biases)\n",
    "cost = tf.reduce_mean(tf.nn.softmax_cross_entropy_with_logits(logits=pred, labels=y))\n",
    "train_op = tf.train.AdamOptimizer(lr).minimize(cost)\n",
    "\n",
    "correct_pred = tf.equal(tf.argmax(pred, 1), tf.argmax(y, 1))\n",
    "accuracy = tf.reduce_mean(tf.cast(correct_pred, tf.float32))\n",
    "\n",
    "print (\"Network ready\")"
   ]
  },
  {
   "cell_type": "code",
   "execution_count": 6,
   "metadata": {
    "collapsed": false,
    "deletable": true,
    "editable": true
   },
   "outputs": [
    {
     "name": "stdout",
     "output_type": "stream",
     "text": [
      "Iter 0, Minibatch Loss= 4.355644, Training Accuracy= 0.11719\n",
      "Iter 2560, Minibatch Loss= 1.088950, Training Accuracy= 0.64062\n",
      "Iter 5120, Minibatch Loss= 1.188194, Training Accuracy= 0.65625\n",
      "Iter 7680, Minibatch Loss= 0.788171, Training Accuracy= 0.76562\n",
      "Iter 10240, Minibatch Loss= 0.485220, Training Accuracy= 0.82031\n",
      "Iter 12800, Minibatch Loss= 0.691027, Training Accuracy= 0.80469\n",
      "Iter 15360, Minibatch Loss= 0.313502, Training Accuracy= 0.89062\n",
      "Iter 17920, Minibatch Loss= 0.214497, Training Accuracy= 0.95312\n",
      "Iter 20480, Minibatch Loss= 0.301741, Training Accuracy= 0.89844\n",
      "Iter 23040, Minibatch Loss= 0.301440, Training Accuracy= 0.88281\n",
      "Iter 25600, Minibatch Loss= 0.453140, Training Accuracy= 0.84375\n",
      "Iter 28160, Minibatch Loss= 0.301136, Training Accuracy= 0.88281\n",
      "Iter 30720, Minibatch Loss= 0.145948, Training Accuracy= 0.93750\n",
      "Iter 33280, Minibatch Loss= 0.315478, Training Accuracy= 0.91406\n",
      "Iter 35840, Minibatch Loss= 0.237459, Training Accuracy= 0.92969\n",
      "Iter 38400, Minibatch Loss= 0.212877, Training Accuracy= 0.91406\n",
      "Iter 40960, Minibatch Loss= 0.283831, Training Accuracy= 0.88281\n",
      "Iter 43520, Minibatch Loss= 0.277056, Training Accuracy= 0.92969\n",
      "Iter 46080, Minibatch Loss= 0.271733, Training Accuracy= 0.92969\n",
      "Iter 48640, Minibatch Loss= 0.258493, Training Accuracy= 0.89844\n",
      "Iter 51200, Minibatch Loss= 0.294677, Training Accuracy= 0.92188\n",
      "Iter 53760, Minibatch Loss= 0.110182, Training Accuracy= 0.95312\n",
      "Iter 56320, Minibatch Loss= 0.272065, Training Accuracy= 0.92969\n",
      "Iter 58880, Minibatch Loss= 0.166086, Training Accuracy= 0.96875\n",
      "Iter 61440, Minibatch Loss= 0.101732, Training Accuracy= 0.95312\n",
      "Iter 64000, Minibatch Loss= 0.146056, Training Accuracy= 0.96875\n",
      "Iter 66560, Minibatch Loss= 0.097393, Training Accuracy= 0.95312\n",
      "Iter 69120, Minibatch Loss= 0.108277, Training Accuracy= 0.97656\n",
      "Iter 71680, Minibatch Loss= 0.155307, Training Accuracy= 0.92969\n",
      "Iter 74240, Minibatch Loss= 0.192423, Training Accuracy= 0.91406\n",
      "Iter 76800, Minibatch Loss= 0.202417, Training Accuracy= 0.94531\n",
      "Iter 79360, Minibatch Loss= 0.118849, Training Accuracy= 0.95312\n",
      "Iter 81920, Minibatch Loss= 0.115827, Training Accuracy= 0.96875\n",
      "Iter 84480, Minibatch Loss= 0.122720, Training Accuracy= 0.94531\n",
      "Iter 87040, Minibatch Loss= 0.052995, Training Accuracy= 0.98438\n",
      "Iter 89600, Minibatch Loss= 0.103301, Training Accuracy= 0.97656\n",
      "Iter 92160, Minibatch Loss= 0.166151, Training Accuracy= 0.95312\n",
      "Iter 94720, Minibatch Loss= 0.224223, Training Accuracy= 0.93750\n",
      "Iter 97280, Minibatch Loss= 0.117564, Training Accuracy= 0.96094\n",
      "Iter 99840, Minibatch Loss= 0.131557, Training Accuracy= 0.97656\n"
     ]
    }
   ],
   "source": [
    "with tf.Session() as sess:\n",
    "    # tf.initialize_all_variables() no long valid from\n",
    "    # 2017-03-02 if using tensorflow >= 0.12\n",
    "    if int((tf.__version__).split('.')[1]) < 12 and int((tf.__version__).split('.')[0]) < 1:\n",
    "        init = tf.initialize_all_variables()\n",
    "    else:\n",
    "        init = tf.global_variables_initializer()\n",
    "    sess.run(init)\n",
    "    step = 0\n",
    "    while step * batch_size < training_iters:\n",
    "        batch_xs, batch_ys = mnist.train.next_batch(batch_size)\n",
    "        batch_xs = batch_xs.reshape([batch_size, n_steps, n_inputs])\n",
    "        _, acc, loss=sess.run([train_op,accuracy,cost], feed_dict={\n",
    "            x: batch_xs,\n",
    "            y: batch_ys,\n",
    "        })\n",
    "        if step % 20 == 0:\n",
    "            print (\"Iter \" + str(step*batch_size) + \", Minibatch Loss= \" + \\\n",
    "                  \"{:.6f}\".format(loss) + \", Training Accuracy= \" + \\\n",
    "                  \"{:.5f}\".format(acc))\n",
    "        step += 1"
   ]
  },
  {
   "cell_type": "code",
   "execution_count": null,
   "metadata": {
    "collapsed": true,
    "deletable": true,
    "editable": true
   },
   "outputs": [],
   "source": []
  }
 ],
 "metadata": {
  "kernelspec": {
   "display_name": "Python 3",
   "language": "python",
   "name": "python3"
  },
  "language_info": {
   "codemirror_mode": {
    "name": "ipython",
    "version": 3
   },
   "file_extension": ".py",
   "mimetype": "text/x-python",
   "name": "python",
   "nbconvert_exporter": "python",
   "pygments_lexer": "ipython3",
   "version": "3.5.2"
  }
 },
 "nbformat": 4,
 "nbformat_minor": 0
}
